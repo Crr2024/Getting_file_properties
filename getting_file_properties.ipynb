{
 "cells": [
  {
   "cell_type": "code",
   "execution_count": 1,
   "metadata": {},
   "outputs": [],
   "source": [
    "import pandas as pd\n",
    "import numpy as np\n",
    "import warnings\n",
    "warnings.filterignore('ignore')"
   ]
  },
  {
   "cell_type": "markdown",
   "metadata": {},
   "source": []
  },
  {
   "cell_type": "markdown",
   "metadata": {},
   "source": [
    "     HASH EXTRACTION"
   ]
  },
  {
   "cell_type": "code",
   "execution_count": 132,
   "metadata": {},
   "outputs": [
    {
     "name": "stdout",
     "output_type": "stream",
     "text": [
      "3d99554cc8bdd96ab58483a21d821740\n"
     ]
    }
   ],
   "source": [
    "filename = open('file.exe','rb')\n",
    "import hashlib\n",
    "hasher = hashlib.md5()\n",
    "buf = filename.read()\n",
    "hasher.update(buf)\n",
    "print(hasher.hexdigest())\n",
    "md5 = hasher.hexdigest()"
   ]
  },
  {
   "cell_type": "markdown",
   "metadata": {},
   "source": [
    "PE FEATURE EXTRACTION"
   ]
  },
  {
   "cell_type": "code",
   "execution_count": 27,
   "metadata": {},
   "outputs": [
    {
     "name": "stdout",
     "output_type": "stream",
     "text": [
      "Requirement already satisfied: pefile in c:\\users\\rohit raju\\anaconda3\\lib\\site-packages (2021.9.3)\n",
      "Requirement already satisfied: future in c:\\users\\rohit raju\\anaconda3\\lib\\site-packages (from pefile) (0.18.2)\n"
     ]
    }
   ],
   "source": [
    "!pip install pefile"
   ]
  },
  {
   "cell_type": "code",
   "execution_count": 235,
   "metadata": {},
   "outputs": [],
   "source": [
    "import pefile\n",
    "import os\n",
    "pe = pefile.PE(\"file.exe\")\n",
    "pe.filename = filename\n",
    "SizeOfCode = pe.OPTIONAL_HEADER.SizeOfCode\n",
    "MajorLinkerVersion = pe.OPTIONAL_HEADER.MajorLinkerVersion\n",
    "MinorLinkerVersion = pe.OPTIONAL_HEADER.MinorLinkerVersion\n",
    "SizeOfCode = pe.OPTIONAL_HEADER.SizeOfCode\n",
    "SizeOfInitializedData = pe.OPTIONAL_HEADER.SizeOfInitializedData\n",
    "SizeOfUninitializedData = pe.OPTIONAL_HEADER.SizeOfUninitializedData\n",
    "AddressOfEntryPoint = pe.OPTIONAL_HEADER.AddressOfEntryPoint\n",
    "BaseOfCode = pe.OPTIONAL_HEADER.BaseOfCode\n",
    "ImageBase = pe.OPTIONAL_HEADER.ImageBase\n",
    "SectionAlignment = pe.OPTIONAL_HEADER.SectionAlignment\n",
    "FileAlignment = pe.OPTIONAL_HEADER.FileAlignment\n",
    "MajorOperatingSystemVersion = pe.OPTIONAL_HEADER.MajorOperatingSystemVersion\n",
    "MinorOperatingSystemVersion = pe.OPTIONAL_HEADER.MajorOperatingSystemVersion\n",
    "MajorImageVersion = pe.OPTIONAL_HEADER.MajorImageVersion\n",
    "MinorImageVersion = pe.OPTIONAL_HEADER.MinorImageVersion\n",
    "MajorSubsystemVersion = pe.OPTIONAL_HEADER.MajorSubsystemVersion\n",
    "MinorSubsystemVersion = pe.OPTIONAL_HEADER.MinorSubsystemVersion\n",
    "SizeOfHeaders = pe.OPTIONAL_HEADER.SizeOfHeaders\n",
    "CheckSum = pe.OPTIONAL_HEADER.CheckSum\n",
    "SizeOfImage = pe.OPTIONAL_HEADER.SizeOfImage\n",
    "Subsystem = pe.OPTIONAL_HEADER.Subsystem\n",
    "DllCharacteristics = pe.OPTIONAL_HEADER.DllCharacteristics\n",
    "SizeOfStackReserve = pe.OPTIONAL_HEADER.SizeOfStackReserve\n",
    "SizeOfStackCommit = pe.OPTIONAL_HEADER.SizeOfStackCommit\n",
    "SizeOfHeapReserve = pe.OPTIONAL_HEADER.SizeOfHeapReserve\n",
    "SizeOfHeapCommit = pe.OPTIONAL_HEADER.SizeOfHeapCommit\n",
    "LoaderFlags = pe.OPTIONAL_HEADER.LoaderFlags\n",
    "NumberOfRvaAndSizes = pe.OPTIONAL_HEADER.NumberOfRvaAndSizes\n"
   ]
  },
  {
   "cell_type": "code",
   "execution_count": 345,
   "metadata": {},
   "outputs": [],
   "source": [
    "data = {'Parameters' : ['MajorLinkerVersion', 'MinorLinkerVersion', 'SizeOfCode',\n",
    "       'SizeOfInitializedData', 'SizeOfUninitializedData',\n",
    "       'AddressOfEntryPoint', 'BaseOfCode', 'ImageBase', 'SectionAlignment',\n",
    "       'FileAlignment', 'MajorOperatingSystemVersion',\n",
    "       'MinorOperatingSystemVersion', 'MajorImageVersion', 'MinorImageVersion',\n",
    "       'MajorSubsystemVersion', 'MinorSubsystemVersion', 'SizeOfHeaders',\n",
    "       'CheckSum', 'SizeOfImage', 'Subsystem', 'DllCharacteristics',\n",
    "       'SizeOfStackReserve', 'SizeOfStackCommit', 'SizeOfHeapReserve',\n",
    "       'SizeOfHeapCommit', 'LoaderFlags', 'NumberOfRvaAndSizes'],\n",
    "         ' Values' : [MajorLinkerVersion, MinorLinkerVersion, SizeOfCode,\n",
    "       SizeOfInitializedData, SizeOfUninitializedData,\n",
    "       AddressOfEntryPoint, BaseOfCode, ImageBase, SectionAlignment,\n",
    "       FileAlignment, MajorOperatingSystemVersion,\n",
    "       MinorOperatingSystemVersion, MajorImageVersion, MinorImageVersion,\n",
    "       MajorSubsystemVersion, MinorSubsystemVersion, SizeOfHeaders,\n",
    "       CheckSum, SizeOfImage, Subsystem,DllCharacteristics,\n",
    "       SizeOfStackReserve, SizeOfStackCommit, SizeOfHeapReserve,\n",
    "       SizeOfHeapCommit, LoaderFlags, NumberOfRvaAndSizes]}\n",
    "\n",
    "new_df = pd.DataFrame(data)\n",
    "new_x = new_df['Parameters']\n",
    "new_y = new_df.iloc[:,-1]"
   ]
  }
 ],
 "metadata": {
  "kernelspec": {
   "display_name": "Python 3",
   "language": "python",
   "name": "python3"
  },
  "language_info": {
   "codemirror_mode": {
    "name": "ipython",
    "version": 3
   },
   "file_extension": ".py",
   "mimetype": "text/x-python",
   "name": "python",
   "nbconvert_exporter": "python",
   "pygments_lexer": "ipython3",
   "version": "3.7.6"
  }
 },
 "nbformat": 4,
 "nbformat_minor": 4
}
